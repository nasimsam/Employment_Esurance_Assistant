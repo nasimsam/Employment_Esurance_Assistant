{
 "cells": [
  {
   "cell_type": "code",
   "execution_count": 38,
   "id": "aa60d2e1-e82f-4e49-8b8b-8e1cca0e4a0d",
   "metadata": {},
   "outputs": [],
   "source": [
    "from langchain_openai import ChatOpenAI\n",
    "from langchain.schema import Document\n",
    "llm = ChatOpenAI(model=\"gpt-4\")\n",
    "\n",
    "def Calculate_EI_benefit(hourly_rate: float, weekly_hours: float) -> float:\n",
    "    \"\"\"\n",
    "    Calculate the estimated weekly EI benefit.\n",
    "\n",
    "    :param hourly_rate: User's hourly wage\n",
    "    :param weekly_hours: Number of hours worked per week\n",
    "    :param family_income: Net family income (optional)\n",
    "    :param has_children: Whether the user has children (optional)\n",
    "    :return: Estimated weekly EI benefit\n",
    "    \"\"\"\n",
    "    weekly_earnings = hourly_rate * weekly_hours\n",
    "    benefit_rate = 0.55\n",
    "\n",
    "    # Check for Family Supplement eligibility\n",
    "\n",
    "    weekly_benefit = weekly_earnings * benefit_rate\n",
    "    return min(weekly_benefit, 695.00)\n",
    "    \n",
    "tools = [Calculate_EI_benefit]\n",
    "llm_with_tools = llm.bind_tools(tools)"
   ]
  },
  {
   "cell_type": "code",
   "execution_count": 39,
   "id": "8d59d422-8669-45d3-941f-43587bd89f2d",
   "metadata": {},
   "outputs": [
    {
     "data": {
      "image/png": "[encoded data removed]",
      "text/plain": [
       "<IPython.core.display.Image object>"
      ]
     },
     "metadata": {},
     "output_type": "display_data"
    }
   ],
   "source": [
    "import operator\n",
    "from langchain.chat_models import ChatOpenAI\n",
    "from langgraph.graph import START, StateGraph\n",
    "from langchain.chains import RetrievalQA\n",
    "from langgraph.graph import MessagesState\n",
    "from typing_extensions import List, Optional,TypedDict, Annotated, Literal\n",
    "from langchain_core.messages import HumanMessage, SystemMessage, AnyMessage, get_buffer_string\n",
    "from langchain.embeddings import OpenAIEmbeddings\n",
    "from langchain.tools import Tool\n",
    "from langgraph.prebuilt import tools_condition, ToolNode\n",
    "from langgraph.graph import StateGraph, END\n",
    "from IPython.display import Image, display\n",
    "\n",
    "# Initialize components\n",
    "\n",
    "embedding_model = OpenAIEmbeddings()\n",
    "vectorstore = Chroma.from_documents(documents=splits, embedding=OpenAIEmbeddings(api_key=OPENAI_API))\n",
    "retriever = vectorstore.as_retriever()\n",
    "\n",
    "sys_msg = SystemMessage(content=\"You are a helpful EI assistant only if user ask for benefit rate or to calculate EI benefit use tool to calculate\")\n",
    "# Define the state schema\n",
    "class GraphState(TypedDict):\n",
    "    user_input: str\n",
    "    messages: Annotated[List[AnyMessage], operator.add]\n",
    "    documents: List[Document]\n",
    "\n",
    "# System message\n",
    "\n",
    "\n",
    "# Node\n",
    "def assistant(state: GraphState):\n",
    "   return {\"messages\": [llm_with_tools.invoke([sys_msg] + state[\"messages\"])]}\n",
    "\n",
    "# Define the calculator tool\n",
    "\n",
    "    \n",
    "def should_invoke_tool(state) -> Literal[\"retrieve_documents\", \"generate_response\"]:\n",
    "    documents = state.get(\"documents\", [])\n",
    "    if documents:\n",
    "        return \"generate_response\"\n",
    "    else:\n",
    "        return \"retrieve_documents\"\n",
    "\"\"\"\n",
    "retrieve_documents\n",
    "- Returns documents fetched from a vectorstore based on the user's question\n",
    "\"\"\"\n",
    "@traceable(run_type=\"chain\")\n",
    "def retrieve_documents(state: GraphState):\n",
    "    messages = state.get(\"messages\", [])\n",
    "    user_input = state[\"user_input\"]\n",
    "    documents = retriever.invoke(f\"{get_buffer_string(messages)} {user_input}\")\n",
    "    return {\"documents\": documents}\n",
    "\n",
    "\n",
    "@traceable(run_type=\"chain\")\n",
    "def generate_response(state: GraphState):\n",
    "    user_input = state[\"user_input\"]\n",
    "    messages = state[\"messages\"]\n",
    "    documents = state[\"documents\"]\n",
    "    formatted_docs = \"\\n\\n\".join(doc.page_content for doc in documents)\n",
    "    \n",
    "    rag_prompt_formatted = rag_chain.invoke({\"input\": user_input, \"chat_history\": messages , \"context\": formatted_docs}).text\n",
    "    generation = llm.invoke([HumanMessage(content=rag_prompt_formatted)])\n",
    "    return {\"documents\": documents, \"messages\": [generation]}\n",
    "\n",
    "# Build the LangGraph\n",
    "builder = StateGraph(GraphState)\n",
    "\n",
    "# Define nodes: these do the work\n",
    "builder.add_node(\"assistant\", assistant)\n",
    "builder.add_node(\"tools\", ToolNode(tools))\n",
    "builder.add_node(\"retrieve_documents\", retrieve_documents)\n",
    "builder.add_node(\"generate_response\", generate_response)\n",
    "# Define edges: these determine how the control flow moves\n",
    "builder.add_edge(START, \"assistant\")\n",
    "builder.add_conditional_edges(\n",
    "    \"assistant\",\n",
    "    # If the latest message (result) from assistant is a tool call -> tools_condition routes to tools\n",
    "    # If the latest message (result) from assistant is a not a tool call -> tools_condition routes to END\n",
    "    tools_condition,\n",
    ")\n",
    "#builder.add_edge(\"tools\", END)\n",
    "builder.add_conditional_edges(\"assistant\", should_invoke_tool)\n",
    "builder.add_edge(\"tools\", \"assistant\")\n",
    "builder.add_edge(\"retrieve_documents\", \"generate_response\")\n",
    "builder.add_edge(\"generate_response\", END)\n",
    "\n",
    "react_graph = builder.compile()\n",
    "\n",
    "# Show\n",
    "display(Image(react_graph.get_graph(xray=True).draw_mermaid_png()))\n",
    "\n"
   ]
  },
  {
   "cell_type": "code",
   "execution_count": 43,
   "id": "2ce99e24-a85b-4821-9d72-15857bd96ff9",
   "metadata": {},
   "outputs": [
    {
     "name": "stdin",
     "output_type": "stream",
     "text": [
      "You:  Calculate my EI benefit with an hourly rate of 30, working 40 hours per week\n"
     ]
    },
    {
     "name": "stdout",
     "output_type": "stream",
     "text": [
      "================================\u001b[1m Human Message \u001b[0m=================================\n",
      "\n",
      "Calculate my EI benefit with an hourly rate of 30, working 40 hours per week\n",
      "==================================\u001b[1m Ai Message \u001b[0m==================================\n",
      "Tool Calls:\n",
      "  Calculate_EI_benefit (call_B8lWLjAxCJQ3Qhw7QDTbsR8W)\n",
      " Call ID: call_B8lWLjAxCJQ3Qhw7QDTbsR8W\n",
      "  Args:\n",
      "    hourly_rate: 30\n",
      "    weekly_hours: 40\n",
      "=================================\u001b[1m Tool Message \u001b[0m=================================\n",
      "Name: Calculate_EI_benefit\n",
      "\n",
      "660.0\n",
      "==================================\u001b[1m Ai Message \u001b[0m==================================\n",
      "\n",
      "Based on your input, your estimated weekly Employment Insurance (EI) benefit would be $660.00. Please note that this is an estimated figure and the actual amount may vary.\n",
      "==================================\u001b[1m Ai Message \u001b[0m==================================\n",
      "\n",
      "Based on the hourly rate of $30 and working 40 hours per week that you provided, the calculation for your Employment Insurance (EI) benefit comes out to be $660. The calculation takes into account various factors and it is aligned with the guidelines presented in Chapter 19 - Employment benefits and support measures (Part II of the EI Act). Please remember that individual circumstances can vary and this calculation is an approximate figure.\n",
      "==================================\u001b[1m Ai Message \u001b[0m==================================\n",
      "\n",
      "Based on your hourly rate of $30 and working 40 hours weekly, your estimated weekly Employment Insurance (EI) benefit is $660 according to the guidelines in Chapter 19 - Employment benefits and support measures (Part II of the EI Act). Please take into account that this is only an estimate, and actual amounts may vary due to individual circumstances.\n"
     ]
    },
    {
     "name": "stdin",
     "output_type": "stream",
     "text": [
      "You:  I need to travel abroad what will happen to my EI?\n"
     ]
    },
    {
     "name": "stdout",
     "output_type": "stream",
     "text": [
      "================================\u001b[1m Human Message \u001b[0m=================================\n",
      "\n",
      "I need to travel abroad what will happen to my EI?\n",
      "==================================\u001b[1m Ai Message \u001b[0m==================================\n",
      "\n",
      "As an EI assistant, I'm here to assist you with benefit rates and calculations. However, in general, it's important to know that traveling abroad may affect your eligibility to receive Employment Insurance benefits. Recipients are usually required to stay in Canada and be available for work. There are exceptions, but you would need to verify with the relevant authorities. Please check with the Canada Service for specific guidelines.\n",
      "==================================\u001b[1m Ai Message \u001b[0m==================================\n",
      "\n",
      "Traveling abroad can impact your eligibility for Employment Insurance (EI) benefits. Recipients are typically expected to remain within Canada and be ready for work. Certain exceptions do exist, but you should check with Canada Service for specific guidance. It's crucial to understand the specifics of your benefits and how travel could affect them to avoid any disruptions. The Digest of Benefit Entitlement Principles on the Canada.ca website can also provide further information.\n"
     ]
    },
    {
     "name": "stdin",
     "output_type": "stream",
     "text": [
      "You:  exit\n"
     ]
    },
    {
     "name": "stdout",
     "output_type": "stream",
     "text": [
      "Assistant: Goodbye!\n"
     ]
    }
   ],
   "source": [
    "import uuid\n",
    "if __name__ == \"__main__\":\n",
    "    thread_id = str(uuid.uuid4())  # Unique ID for the session\n",
    "    config = {\"configurable\": {\"thread_id\": thread_id}}\n",
    "    while True:\n",
    "        user_input = input(\"You: \")\n",
    "        if user_input.lower() in [\"exit\", \"quit\"]:\n",
    "            print(\"Assistant: Goodbye!\")\n",
    "            break\n",
    "        response = react_graph.invoke({\"messages\": [HumanMessage(content=user_input)], \"user_input\" : user_input}, config=config)\n",
    "        messages = response.get(\"messages\", [])\n",
    "        if response:\n",
    "            for m in response['messages']:\n",
    "                m.pretty_print()\n",
    "            \n",
    "        else:\n",
    "            print(\"Assistant: I'm sorry, I didn't catch that.\")\n"
   ]
  },
  {
   "cell_type": "code",
   "execution_count": null,
   "id": "b9ca51e5-257e-4500-b48a-b0198bb2de61",
   "metadata": {},
   "outputs": [],
   "source": []
  }
 ],
 "metadata": {
  "kernelspec": {
   "display_name": "Python 3 (ipykernel)",
   "language": "python",
   "name": "python3"
  },
  "language_info": {
   "codemirror_mode": {
    "name": "ipython",
    "version": 3
   },
   "file_extension": ".py",
   "mimetype": "text/x-python",
   "name": "python",
   "nbconvert_exporter": "python",
   "pygments_lexer": "ipython3",
   "version": "3.11.11"
  }
 },
 "nbformat": 4,
 "nbformat_minor": 5
}
